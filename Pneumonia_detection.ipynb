{
  "nbformat": 4,
  "nbformat_minor": 0,
  "metadata": {
    "colab": {
      "name": "Pneumonia_detection.ipynb",
      "provenance": [],
      "collapsed_sections": []
    },
    "kernelspec": {
      "name": "python3",
      "display_name": "Python 3"
    },
    "accelerator": "GPU"
  },
  "cells": [
    {
      "cell_type": "code",
      "metadata": {
        "id": "mI9zUZ561X-8",
        "outputId": "4020c38c-c681-4b21-a555-04c5e6245bc9",
        "colab": {
          "base_uri": "https://localhost:8080/",
          "height": 34
        }
      },
      "source": [
        "from google.colab import drive\n",
        "drive.mount('/content/gdrive')"
      ],
      "execution_count": 1,
      "outputs": [
        {
          "output_type": "stream",
          "text": [
            "Mounted at /content/gdrive\n"
          ],
          "name": "stdout"
        }
      ]
    },
    {
      "cell_type": "code",
      "metadata": {
        "id": "vqMohCNJ9Ork",
        "outputId": "cf36cdf9-cc29-4152-bf41-44f547658a88",
        "colab": {
          "base_uri": "https://localhost:8080/",
          "height": 102
        }
      },
      "source": [
        "pip install  pydicom"
      ],
      "execution_count": 2,
      "outputs": [
        {
          "output_type": "stream",
          "text": [
            "Collecting pydicom\n",
            "\u001b[?25l  Downloading https://files.pythonhosted.org/packages/d3/56/342e1f8ce5afe63bf65c23d0b2c1cd5a05600caad1c211c39725d3a4cc56/pydicom-2.0.0-py3-none-any.whl (35.4MB)\n",
            "\u001b[K     |████████████████████████████████| 35.5MB 89kB/s \n",
            "\u001b[?25hInstalling collected packages: pydicom\n",
            "Successfully installed pydicom-2.0.0\n"
          ],
          "name": "stdout"
        }
      ]
    },
    {
      "cell_type": "code",
      "metadata": {
        "id": "nPfpI6bPF-hs"
      },
      "source": [
        "import pandas as pd\n",
        "import numpy as np\n",
        "\n",
        "import matplotlib.pyplot as plt\n",
        "import matplotlib.patches as patches\n",
        "%matplotlib inline  \n",
        "\n",
        "import zipfile\n",
        "import pydicom"
      ],
      "execution_count": 3,
      "outputs": []
    },
    {
      "cell_type": "code",
      "metadata": {
        "id": "t0A2cjodGP_2"
      },
      "source": [
        "# Filepaths\n",
        "base_path = '/content/gdrive/My Drive/AIML/Capstone/Pneumonia_Detection'\n",
        "\n",
        "images_path = base_path +'/stage_2_train_images.zip'\n",
        "train_images_Label_path = base_path +'/stage_2_train_labels.csv.zip'\n",
        "\n",
        "test_images_path = base_path +'/stage_2_test_images.zip'"
      ],
      "execution_count": 4,
      "outputs": []
    },
    {
      "cell_type": "code",
      "metadata": {
        "id": "rGAW6BCZJZ0I"
      },
      "source": [
        "with zipfile.ZipFile(images_path,'r') as zip_ref:\n",
        "  zip_ref.extractall('/train/images')  \n"
      ],
      "execution_count": 5,
      "outputs": []
    },
    {
      "cell_type": "code",
      "metadata": {
        "id": "cNd8-vG4P0Yr"
      },
      "source": [
        "with zipfile.ZipFile(train_images_Label_path,'r') as zip_ref:\n",
        "  zip_ref.extractall('/train/csv') \n",
        "  zip_ref.close()"
      ],
      "execution_count": 6,
      "outputs": []
    },
    {
      "cell_type": "code",
      "metadata": {
        "id": "3425Mw7tqD4b"
      },
      "source": [
        "# common values\n",
        "image_size = 1024\n",
        "channel = 1"
      ],
      "execution_count": 7,
      "outputs": []
    },
    {
      "cell_type": "code",
      "metadata": {
        "id": "i6TAXs2zR7JS"
      },
      "source": [
        "train_labels_data = pd.read_csv('/train/csv/stage_2_train_labels.csv')"
      ],
      "execution_count": 8,
      "outputs": []
    },
    {
      "cell_type": "code",
      "metadata": {
        "id": "eDN-KeKrVovr",
        "outputId": "7fa3bb08-4dd0-4882-8e0c-998a6564ad4d",
        "colab": {
          "base_uri": "https://localhost:8080/",
          "height": 34
        }
      },
      "source": [
        "train_labels_data.shape"
      ],
      "execution_count": 9,
      "outputs": [
        {
          "output_type": "execute_result",
          "data": {
            "text/plain": [
              "(30227, 6)"
            ]
          },
          "metadata": {
            "tags": []
          },
          "execution_count": 9
        }
      ]
    },
    {
      "cell_type": "code",
      "metadata": {
        "id": "3lPcIK5oW1nq",
        "outputId": "6d8d9fc2-d49b-4a32-df28-0163fe0283f1",
        "colab": {
          "base_uri": "https://localhost:8080/",
          "height": 359
        }
      },
      "source": [
        "train_labels_data.head(10)"
      ],
      "execution_count": 10,
      "outputs": [
        {
          "output_type": "execute_result",
          "data": {
            "text/html": [
              "<div>\n",
              "<style scoped>\n",
              "    .dataframe tbody tr th:only-of-type {\n",
              "        vertical-align: middle;\n",
              "    }\n",
              "\n",
              "    .dataframe tbody tr th {\n",
              "        vertical-align: top;\n",
              "    }\n",
              "\n",
              "    .dataframe thead th {\n",
              "        text-align: right;\n",
              "    }\n",
              "</style>\n",
              "<table border=\"1\" class=\"dataframe\">\n",
              "  <thead>\n",
              "    <tr style=\"text-align: right;\">\n",
              "      <th></th>\n",
              "      <th>patientId</th>\n",
              "      <th>x</th>\n",
              "      <th>y</th>\n",
              "      <th>width</th>\n",
              "      <th>height</th>\n",
              "      <th>Target</th>\n",
              "    </tr>\n",
              "  </thead>\n",
              "  <tbody>\n",
              "    <tr>\n",
              "      <th>0</th>\n",
              "      <td>0004cfab-14fd-4e49-80ba-63a80b6bddd6</td>\n",
              "      <td>NaN</td>\n",
              "      <td>NaN</td>\n",
              "      <td>NaN</td>\n",
              "      <td>NaN</td>\n",
              "      <td>0</td>\n",
              "    </tr>\n",
              "    <tr>\n",
              "      <th>1</th>\n",
              "      <td>00313ee0-9eaa-42f4-b0ab-c148ed3241cd</td>\n",
              "      <td>NaN</td>\n",
              "      <td>NaN</td>\n",
              "      <td>NaN</td>\n",
              "      <td>NaN</td>\n",
              "      <td>0</td>\n",
              "    </tr>\n",
              "    <tr>\n",
              "      <th>2</th>\n",
              "      <td>00322d4d-1c29-4943-afc9-b6754be640eb</td>\n",
              "      <td>NaN</td>\n",
              "      <td>NaN</td>\n",
              "      <td>NaN</td>\n",
              "      <td>NaN</td>\n",
              "      <td>0</td>\n",
              "    </tr>\n",
              "    <tr>\n",
              "      <th>3</th>\n",
              "      <td>003d8fa0-6bf1-40ed-b54c-ac657f8495c5</td>\n",
              "      <td>NaN</td>\n",
              "      <td>NaN</td>\n",
              "      <td>NaN</td>\n",
              "      <td>NaN</td>\n",
              "      <td>0</td>\n",
              "    </tr>\n",
              "    <tr>\n",
              "      <th>4</th>\n",
              "      <td>00436515-870c-4b36-a041-de91049b9ab4</td>\n",
              "      <td>264.0</td>\n",
              "      <td>152.0</td>\n",
              "      <td>213.0</td>\n",
              "      <td>379.0</td>\n",
              "      <td>1</td>\n",
              "    </tr>\n",
              "    <tr>\n",
              "      <th>5</th>\n",
              "      <td>00436515-870c-4b36-a041-de91049b9ab4</td>\n",
              "      <td>562.0</td>\n",
              "      <td>152.0</td>\n",
              "      <td>256.0</td>\n",
              "      <td>453.0</td>\n",
              "      <td>1</td>\n",
              "    </tr>\n",
              "    <tr>\n",
              "      <th>6</th>\n",
              "      <td>00569f44-917d-4c86-a842-81832af98c30</td>\n",
              "      <td>NaN</td>\n",
              "      <td>NaN</td>\n",
              "      <td>NaN</td>\n",
              "      <td>NaN</td>\n",
              "      <td>0</td>\n",
              "    </tr>\n",
              "    <tr>\n",
              "      <th>7</th>\n",
              "      <td>006cec2e-6ce2-4549-bffa-eadfcd1e9970</td>\n",
              "      <td>NaN</td>\n",
              "      <td>NaN</td>\n",
              "      <td>NaN</td>\n",
              "      <td>NaN</td>\n",
              "      <td>0</td>\n",
              "    </tr>\n",
              "    <tr>\n",
              "      <th>8</th>\n",
              "      <td>00704310-78a8-4b38-8475-49f4573b2dbb</td>\n",
              "      <td>323.0</td>\n",
              "      <td>577.0</td>\n",
              "      <td>160.0</td>\n",
              "      <td>104.0</td>\n",
              "      <td>1</td>\n",
              "    </tr>\n",
              "    <tr>\n",
              "      <th>9</th>\n",
              "      <td>00704310-78a8-4b38-8475-49f4573b2dbb</td>\n",
              "      <td>695.0</td>\n",
              "      <td>575.0</td>\n",
              "      <td>162.0</td>\n",
              "      <td>137.0</td>\n",
              "      <td>1</td>\n",
              "    </tr>\n",
              "  </tbody>\n",
              "</table>\n",
              "</div>"
            ],
            "text/plain": [
              "                              patientId      x      y  width  height  Target\n",
              "0  0004cfab-14fd-4e49-80ba-63a80b6bddd6    NaN    NaN    NaN     NaN       0\n",
              "1  00313ee0-9eaa-42f4-b0ab-c148ed3241cd    NaN    NaN    NaN     NaN       0\n",
              "2  00322d4d-1c29-4943-afc9-b6754be640eb    NaN    NaN    NaN     NaN       0\n",
              "3  003d8fa0-6bf1-40ed-b54c-ac657f8495c5    NaN    NaN    NaN     NaN       0\n",
              "4  00436515-870c-4b36-a041-de91049b9ab4  264.0  152.0  213.0   379.0       1\n",
              "5  00436515-870c-4b36-a041-de91049b9ab4  562.0  152.0  256.0   453.0       1\n",
              "6  00569f44-917d-4c86-a842-81832af98c30    NaN    NaN    NaN     NaN       0\n",
              "7  006cec2e-6ce2-4549-bffa-eadfcd1e9970    NaN    NaN    NaN     NaN       0\n",
              "8  00704310-78a8-4b38-8475-49f4573b2dbb  323.0  577.0  160.0   104.0       1\n",
              "9  00704310-78a8-4b38-8475-49f4573b2dbb  695.0  575.0  162.0   137.0       1"
            ]
          },
          "metadata": {
            "tags": []
          },
          "execution_count": 10
        }
      ]
    },
    {
      "cell_type": "code",
      "metadata": {
        "id": "z7EyQRfLXRS8",
        "outputId": "36b952bc-bc7a-41de-d6b4-27aad8083f82",
        "colab": {
          "base_uri": "https://localhost:8080/",
          "height": 238
        }
      },
      "source": [
        "train_labels_data.info()\n",
        "# Here we have total samples 30227.\n",
        "# and we got only 9555 non-null values."
      ],
      "execution_count": 11,
      "outputs": [
        {
          "output_type": "stream",
          "text": [
            "<class 'pandas.core.frame.DataFrame'>\n",
            "RangeIndex: 30227 entries, 0 to 30226\n",
            "Data columns (total 6 columns):\n",
            " #   Column     Non-Null Count  Dtype  \n",
            "---  ------     --------------  -----  \n",
            " 0   patientId  30227 non-null  object \n",
            " 1   x          9555 non-null   float64\n",
            " 2   y          9555 non-null   float64\n",
            " 3   width      9555 non-null   float64\n",
            " 4   height     9555 non-null   float64\n",
            " 5   Target     30227 non-null  int64  \n",
            "dtypes: float64(4), int64(1), object(1)\n",
            "memory usage: 1.4+ MB\n"
          ],
          "name": "stdout"
        }
      ]
    },
    {
      "cell_type": "code",
      "metadata": {
        "id": "eOOZBzEyXu3_",
        "outputId": "76efc7ba-079d-4493-c103-28d1933b0b84",
        "colab": {
          "base_uri": "https://localhost:8080/",
          "height": 136
        }
      },
      "source": [
        "# let's check missing values count.\n",
        "train_labels_data.isna().sum()"
      ],
      "execution_count": 16,
      "outputs": [
        {
          "output_type": "execute_result",
          "data": {
            "text/plain": [
              "patientId        0\n",
              "x            20672\n",
              "y            20672\n",
              "width        20672\n",
              "height       20672\n",
              "Target           0\n",
              "dtype: int64"
            ]
          },
          "metadata": {
            "tags": []
          },
          "execution_count": 16
        }
      ]
    },
    {
      "cell_type": "markdown",
      "metadata": {
        "id": "0VJfkquxSGjH"
      },
      "source": [
        "**Let's check for duplicate patientId's in data set.**\n",
        "\n",
        "\n",
        "```\n",
        "Here, I am checking duplicat patientId values because, \n",
        "1.   Because of typo.\n",
        "2.   Actually There might be two records.\n",
        "\n",
        "\n",
        "```\n"
      ]
    },
    {
      "cell_type": "code",
      "metadata": {
        "id": "JHwiOU4AYDPA",
        "outputId": "e3413683-130c-45af-d7c5-97694571c4c7",
        "colab": {
          "base_uri": "https://localhost:8080/",
          "height": 51
        }
      },
      "source": [
        "# As, I have checked above, there are no missing values in 'patientId' inpute feature.\n",
        "# But, when I check number of unique 'patientId's in 'image_labels_data' data set, I found that '26684' 'patientId's are unique.\n",
        "\n",
        "print('Are thre any duplicate patientIds in data?: {}'.format(train_labels_data.patientId.duplicated().any()))\n",
        "print('Number of unique patientID: {}'.format(train_labels_data.patientId.nunique()))\n"
      ],
      "execution_count": 28,
      "outputs": [
        {
          "output_type": "stream",
          "text": [
            "Are thre any duplicate patientIds in data?: True\n",
            "Number of unique patientID: 26684\n"
          ],
          "name": "stdout"
        }
      ]
    },
    {
      "cell_type": "code",
      "metadata": {
        "id": "aZUX4gYiTp7N",
        "outputId": "9455c14b-63a5-41c1-8634-cfa49c939815",
        "colab": {
          "base_uri": "https://localhost:8080/",
          "height": 204
        }
      },
      "source": [
        "# Let's take one unique duplicate 'patientId' from data set.\n",
        "patientIds =  train_labels_data.patientId\n",
        "duplicate_patientId_df = train_labels_data[patientIds.isin(patientIds[patientIds.duplicated()])].sort_values(by=['patientId'])\n",
        "duplicate_patientId_df.head()\n",
        "# As we can see, there are duplicate entries in the data set."
      ],
      "execution_count": 43,
      "outputs": [
        {
          "output_type": "execute_result",
          "data": {
            "text/html": [
              "<div>\n",
              "<style scoped>\n",
              "    .dataframe tbody tr th:only-of-type {\n",
              "        vertical-align: middle;\n",
              "    }\n",
              "\n",
              "    .dataframe tbody tr th {\n",
              "        vertical-align: top;\n",
              "    }\n",
              "\n",
              "    .dataframe thead th {\n",
              "        text-align: right;\n",
              "    }\n",
              "</style>\n",
              "<table border=\"1\" class=\"dataframe\">\n",
              "  <thead>\n",
              "    <tr style=\"text-align: right;\">\n",
              "      <th></th>\n",
              "      <th>patientId</th>\n",
              "      <th>x</th>\n",
              "      <th>y</th>\n",
              "      <th>width</th>\n",
              "      <th>height</th>\n",
              "      <th>Target</th>\n",
              "    </tr>\n",
              "  </thead>\n",
              "  <tbody>\n",
              "    <tr>\n",
              "      <th>28990</th>\n",
              "      <td>000db696-cf54-4385-b10b-6b16fbb3f985</td>\n",
              "      <td>316.0</td>\n",
              "      <td>318.0</td>\n",
              "      <td>170.0</td>\n",
              "      <td>478.0</td>\n",
              "      <td>1</td>\n",
              "    </tr>\n",
              "    <tr>\n",
              "      <th>28991</th>\n",
              "      <td>000db696-cf54-4385-b10b-6b16fbb3f985</td>\n",
              "      <td>660.0</td>\n",
              "      <td>375.0</td>\n",
              "      <td>146.0</td>\n",
              "      <td>402.0</td>\n",
              "      <td>1</td>\n",
              "    </tr>\n",
              "    <tr>\n",
              "      <th>28992</th>\n",
              "      <td>000fe35a-2649-43d4-b027-e67796d412e0</td>\n",
              "      <td>570.0</td>\n",
              "      <td>282.0</td>\n",
              "      <td>269.0</td>\n",
              "      <td>409.0</td>\n",
              "      <td>1</td>\n",
              "    </tr>\n",
              "    <tr>\n",
              "      <th>28993</th>\n",
              "      <td>000fe35a-2649-43d4-b027-e67796d412e0</td>\n",
              "      <td>83.0</td>\n",
              "      <td>227.0</td>\n",
              "      <td>296.0</td>\n",
              "      <td>438.0</td>\n",
              "      <td>1</td>\n",
              "    </tr>\n",
              "    <tr>\n",
              "      <th>28994</th>\n",
              "      <td>001031d9-f904-4a23-b3e5-2c088acd19c6</td>\n",
              "      <td>66.0</td>\n",
              "      <td>160.0</td>\n",
              "      <td>373.0</td>\n",
              "      <td>608.0</td>\n",
              "      <td>1</td>\n",
              "    </tr>\n",
              "  </tbody>\n",
              "</table>\n",
              "</div>"
            ],
            "text/plain": [
              "                                  patientId      x  ...  height  Target\n",
              "28990  000db696-cf54-4385-b10b-6b16fbb3f985  316.0  ...   478.0       1\n",
              "28991  000db696-cf54-4385-b10b-6b16fbb3f985  660.0  ...   402.0       1\n",
              "28992  000fe35a-2649-43d4-b027-e67796d412e0  570.0  ...   409.0       1\n",
              "28993  000fe35a-2649-43d4-b027-e67796d412e0   83.0  ...   438.0       1\n",
              "28994  001031d9-f904-4a23-b3e5-2c088acd19c6   66.0  ...   608.0       1\n",
              "\n",
              "[5 rows x 6 columns]"
            ]
          },
          "metadata": {
            "tags": []
          },
          "execution_count": 43
        }
      ]
    },
    {
      "cell_type": "code",
      "metadata": {
        "id": "nApeaxGLecxl"
      },
      "source": [
        "# Let's plot dicom and draw these coordinates on image."
      ],
      "execution_count": 44,
      "outputs": []
    },
    {
      "cell_type": "code",
      "metadata": {
        "id": "eKAtFpsYmXuD",
        "outputId": "a3b113c7-6cb0-4610-f26b-569e417f1f62",
        "colab": {
          "base_uri": "https://localhost:8080/",
          "height": 51
        }
      },
      "source": [
        "image_path = '/train/images/'+duplicate_patientId_df.patientId.iloc[0]+'.dcm'\n",
        "print('image path \\n {}'.format(image_path))"
      ],
      "execution_count": 65,
      "outputs": [
        {
          "output_type": "stream",
          "text": [
            "image path \n",
            " /train/images/000db696-cf54-4385-b10b-6b16fbb3f985.dcm\n"
          ],
          "name": "stdout"
        }
      ]
    },
    {
      "cell_type": "code",
      "metadata": {
        "id": "22oZ-0kGmwKY",
        "outputId": "5e58dc12-108e-41c2-a24d-3b9fb17972ed",
        "colab": {
          "base_uri": "https://localhost:8080/",
          "height": 782
        }
      },
      "source": [
        "# Read the dicom image by using 'pydicom' package. The image belongs to  'duplicate_patientId_df' data frame.\n",
        "image_data = pydicom.read_file(image_path)\n",
        "print('image information\\n {}'.format(image_data))"
      ],
      "execution_count": 59,
      "outputs": [
        {
          "output_type": "stream",
          "text": [
            "image information\n",
            " Dataset.file_meta -------------------------------\n",
            "(0002, 0000) File Meta Information Group Length  UL: 200\n",
            "(0002, 0001) File Meta Information Version       OB: b'\\x00\\x01'\n",
            "(0002, 0002) Media Storage SOP Class UID         UI: Secondary Capture Image Storage\n",
            "(0002, 0003) Media Storage SOP Instance UID      UI: 1.2.276.0.7230010.3.1.4.8323329.25090.1517874463.16030\n",
            "(0002, 0010) Transfer Syntax UID                 UI: JPEG Baseline (Process 1)\n",
            "(0002, 0012) Implementation Class UID            UI: 1.2.276.0.7230010.3.0.3.6.0\n",
            "(0002, 0013) Implementation Version Name         SH: 'OFFIS_DCMTK_360'\n",
            "-------------------------------------------------\n",
            "(0008, 0005) Specific Character Set              CS: 'ISO_IR 100'\n",
            "(0008, 0016) SOP Class UID                       UI: Secondary Capture Image Storage\n",
            "(0008, 0018) SOP Instance UID                    UI: 1.2.276.0.7230010.3.1.4.8323329.25090.1517874463.16030\n",
            "(0008, 0020) Study Date                          DA: '19010101'\n",
            "(0008, 0030) Study Time                          TM: '000000.00'\n",
            "(0008, 0050) Accession Number                    SH: ''\n",
            "(0008, 0060) Modality                            CS: 'CR'\n",
            "(0008, 0064) Conversion Type                     CS: 'WSD'\n",
            "(0008, 0090) Referring Physician's Name          PN: ''\n",
            "(0008, 103e) Series Description                  LO: 'view: AP'\n",
            "(0010, 0010) Patient's Name                      PN: '000fe35a-2649-43d4-b027-e67796d412e0'\n",
            "(0010, 0020) Patient ID                          LO: '000fe35a-2649-43d4-b027-e67796d412e0'\n",
            "(0010, 0030) Patient's Birth Date                DA: ''\n",
            "(0010, 0040) Patient's Sex                       CS: 'M'\n",
            "(0010, 1010) Patient's Age                       AS: '40'\n",
            "(0018, 0015) Body Part Examined                  CS: 'CHEST'\n",
            "(0018, 5101) View Position                       CS: 'AP'\n",
            "(0020, 000d) Study Instance UID                  UI: 1.2.276.0.7230010.3.1.2.8323329.25090.1517874463.16029\n",
            "(0020, 000e) Series Instance UID                 UI: 1.2.276.0.7230010.3.1.3.8323329.25090.1517874463.16028\n",
            "(0020, 0010) Study ID                            SH: ''\n",
            "(0020, 0011) Series Number                       IS: \"1\"\n",
            "(0020, 0013) Instance Number                     IS: \"1\"\n",
            "(0020, 0020) Patient Orientation                 CS: ''\n",
            "(0028, 0002) Samples per Pixel                   US: 1\n",
            "(0028, 0004) Photometric Interpretation          CS: 'MONOCHROME2'\n",
            "(0028, 0010) Rows                                US: 1024\n",
            "(0028, 0011) Columns                             US: 1024\n",
            "(0028, 0030) Pixel Spacing                       DS: [0.171, 0.171]\n",
            "(0028, 0100) Bits Allocated                      US: 8\n",
            "(0028, 0101) Bits Stored                         US: 8\n",
            "(0028, 0102) High Bit                            US: 7\n",
            "(0028, 0103) Pixel Representation                US: 0\n",
            "(0028, 2110) Lossy Image Compression             CS: '01'\n",
            "(0028, 2114) Lossy Image Compression Method      CS: 'ISO_10918_1'\n",
            "(7fe0, 0010) Pixel Data                          OB: Array of 130316 elements\n"
          ],
          "name": "stdout"
        }
      ]
    },
    {
      "cell_type": "code",
      "metadata": {
        "id": "BMDfvCyzoq5h",
        "outputId": "7bd76b0e-6cc4-45c5-d378-44e2a129113d",
        "colab": {
          "base_uri": "https://localhost:8080/",
          "height": 303
        }
      },
      "source": [
        "x11 = duplicate_patientId_df.x.iloc[0]\n",
        "y11 = duplicate_patientId_df.y.iloc[0]\n",
        "\n",
        "width_1= duplicate_patientId_df.width.iloc[0]\n",
        "height_1  = duplicate_patientId_df.height.iloc[0]\n",
        "\n",
        "x21 = width_1+ x11\n",
        "y21 = height_1 + y11\n",
        "\n",
        "#----------------\n",
        "x12 = duplicate_patientId_df.x.iloc[1]\n",
        "y12 = duplicate_patientId_df.y.iloc[1]\n",
        "\n",
        "width_2= duplicate_patientId_df.width.iloc[1]\n",
        "height_2  = duplicate_patientId_df.height.iloc[1]\n",
        "\n",
        "x22 = width_2+ x12\n",
        "y22 = height_2 + y12\n",
        "\n",
        "im = image_data.pixel_array\n",
        "print('Size of the image : {}'.format(im.shape))\n",
        "\n",
        "fig, ax = plt.subplots(1)\n",
        "ax.imshow(im,cmap='gray')\n",
        "rect_1= patches.Rectangle((x11,y1),width_1,height_1,edgecolor='b',facecolor='none',linestyle='--', linewidth=2)\n",
        "rect_2= patches.Rectangle((x12,y12),width_2,height_2,edgecolor='r',facecolor='none',linestyle='--', linewidth=2)\n",
        "ax.add_patch(rect_1)\n",
        "ax.add_patch(rect_2)"
      ],
      "execution_count": 71,
      "outputs": [
        {
          "output_type": "stream",
          "text": [
            "Size of the image : (1024, 1024)\n"
          ],
          "name": "stdout"
        },
        {
          "output_type": "execute_result",
          "data": {
            "text/plain": [
              "<matplotlib.patches.Rectangle at 0x7f233c3217b8>"
            ]
          },
          "metadata": {
            "tags": []
          },
          "execution_count": 71
        },
        {
          "output_type": "display_data",
          "data": {
            "image/png": "[encoded data removed]",
            "text/plain": [
              "<Figure size 432x288 with 1 Axes>"
            ]
          },
          "metadata": {
            "tags": [],
            "needs_background": "light"
          }
        }
      ]
    },
    {
      "cell_type": "code",
      "metadata": {
        "id": "NzzkMxcDo-Tn"
      },
      "source": [
        ""
      ],
      "execution_count": null,
      "outputs": []
    }
  ]
}